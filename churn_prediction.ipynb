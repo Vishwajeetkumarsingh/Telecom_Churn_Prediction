{
 "cells": [
  {
   "cell_type": "markdown",
   "id": "d4d273ce-1d5b-4f9c-8531-606210dc2fd9",
   "metadata": {},
   "source": [
    "# Telecom Churn Analysis"
   ]
  },
  {
   "cell_type": "markdown",
   "id": "b70748f5-97e7-484f-abf1-65e76709202f",
   "metadata": {},
   "source": [
    "## Problem Statement"
   ]
  },
  {
   "cell_type": "markdown",
   "id": "eaaea36e-86a6-4446-8d7e-a06cf842d55c",
   "metadata": {},
   "source": [
    "The telecom industry is highly competitive, and customer churn is a significant concern. Retaining existing customers is often more cost-effective than acquiring new ones. This case study aims to build a predictive model to identify customers who are likely to churn, allowing the company to take proactive measures to retain them.\n",
    "\n",
    "The primary objective is to develop a machine learning model that can predict customer churn with high accuracy. The model will use historical data to identify patterns or characteristics of customers who have churned in the past."
   ]
  },
  {
   "cell_type": "markdown",
   "id": "45e68c09-145d-4bec-af95-2297c06a89f4",
   "metadata": {},
   "source": [
    "#### Importing Libraries"
   ]
  },
  {
   "cell_type": "code",
   "execution_count": 1,
   "id": "6323cbe5-fd79-4b7f-af28-8c7e1a73f1fe",
   "metadata": {},
   "outputs": [],
   "source": [
    "import pandas as pd\n",
    "import numpy as np\n",
    "import seaborn as sns\n",
    "import matplotlib.pyplot as plt\n",
    "from sklearn.model_selection import train_test_split\n",
    "from sklearn.preprocessing import StandardScaler\n",
    "from sklearn.linear_model import LogisticRegression\n",
    "from sklearn.metrics import classification_report, confusion_matrix, accuracy_score"
   ]
  },
  {
   "cell_type": "markdown",
   "id": "2af3cdd7-e8f6-4b7a-a986-93d0a6776d50",
   "metadata": {},
   "source": [
    "## Importing data"
   ]
  },
  {
   "cell_type": "code",
   "execution_count": 2,
   "id": "0b7e78db-170b-41fc-9d9d-aa26b0fa082f",
   "metadata": {},
   "outputs": [],
   "source": [
    "df = pd.read_csv('train.csv')"
   ]
  },
  {
   "cell_type": "markdown",
   "id": "aec58aca-e532-455f-a651-0b19778dfd71",
   "metadata": {},
   "source": [
    "### Feature Engineering"
   ]
  },
  {
   "cell_type": "code",
   "execution_count": 3,
   "id": "7a4a208f-b358-4d57-8d16-c417e58a006b",
   "metadata": {},
   "outputs": [
    {
     "data": {
      "text/html": [
       "<div>\n",
       "<style scoped>\n",
       "    .dataframe tbody tr th:only-of-type {\n",
       "        vertical-align: middle;\n",
       "    }\n",
       "\n",
       "    .dataframe tbody tr th {\n",
       "        vertical-align: top;\n",
       "    }\n",
       "\n",
       "    .dataframe thead th {\n",
       "        text-align: right;\n",
       "    }\n",
       "</style>\n",
       "<table border=\"1\" class=\"dataframe\">\n",
       "  <thead>\n",
       "    <tr style=\"text-align: right;\">\n",
       "      <th></th>\n",
       "      <th>customerID</th>\n",
       "      <th>gender</th>\n",
       "      <th>SeniorCitizen</th>\n",
       "      <th>Partner</th>\n",
       "      <th>Dependents</th>\n",
       "      <th>tenure</th>\n",
       "      <th>PhoneService</th>\n",
       "      <th>MultipleLines</th>\n",
       "      <th>InternetService</th>\n",
       "      <th>OnlineSecurity</th>\n",
       "      <th>...</th>\n",
       "      <th>DeviceProtection</th>\n",
       "      <th>TechSupport</th>\n",
       "      <th>StreamingTV</th>\n",
       "      <th>StreamingMovies</th>\n",
       "      <th>Contract</th>\n",
       "      <th>PaperlessBilling</th>\n",
       "      <th>PaymentMethod</th>\n",
       "      <th>MonthlyCharges</th>\n",
       "      <th>TotalCharges</th>\n",
       "      <th>Churn</th>\n",
       "    </tr>\n",
       "  </thead>\n",
       "  <tbody>\n",
       "    <tr>\n",
       "      <th>0</th>\n",
       "      <td>3704-IEAXF</td>\n",
       "      <td>Female</td>\n",
       "      <td>0</td>\n",
       "      <td>Yes</td>\n",
       "      <td>Yes</td>\n",
       "      <td>72</td>\n",
       "      <td>No</td>\n",
       "      <td>No phone service</td>\n",
       "      <td>DSL</td>\n",
       "      <td>No</td>\n",
       "      <td>...</td>\n",
       "      <td>No</td>\n",
       "      <td>Yes</td>\n",
       "      <td>Yes</td>\n",
       "      <td>Yes</td>\n",
       "      <td>Two year</td>\n",
       "      <td>No</td>\n",
       "      <td>Credit card (automatic)</td>\n",
       "      <td>53.65</td>\n",
       "      <td>3784</td>\n",
       "      <td>0</td>\n",
       "    </tr>\n",
       "    <tr>\n",
       "      <th>1</th>\n",
       "      <td>5175-AOBHI</td>\n",
       "      <td>Female</td>\n",
       "      <td>0</td>\n",
       "      <td>No</td>\n",
       "      <td>No</td>\n",
       "      <td>4</td>\n",
       "      <td>Yes</td>\n",
       "      <td>No</td>\n",
       "      <td>DSL</td>\n",
       "      <td>No</td>\n",
       "      <td>...</td>\n",
       "      <td>No</td>\n",
       "      <td>No</td>\n",
       "      <td>No</td>\n",
       "      <td>No</td>\n",
       "      <td>Month-to-month</td>\n",
       "      <td>Yes</td>\n",
       "      <td>Mailed check</td>\n",
       "      <td>46.00</td>\n",
       "      <td>193.6</td>\n",
       "      <td>1</td>\n",
       "    </tr>\n",
       "    <tr>\n",
       "      <th>2</th>\n",
       "      <td>6922-NCEDI</td>\n",
       "      <td>Male</td>\n",
       "      <td>0</td>\n",
       "      <td>No</td>\n",
       "      <td>Yes</td>\n",
       "      <td>56</td>\n",
       "      <td>Yes</td>\n",
       "      <td>No</td>\n",
       "      <td>No</td>\n",
       "      <td>No internet service</td>\n",
       "      <td>...</td>\n",
       "      <td>No internet service</td>\n",
       "      <td>No internet service</td>\n",
       "      <td>No internet service</td>\n",
       "      <td>No internet service</td>\n",
       "      <td>One year</td>\n",
       "      <td>Yes</td>\n",
       "      <td>Mailed check</td>\n",
       "      <td>21.20</td>\n",
       "      <td>1238.65</td>\n",
       "      <td>0</td>\n",
       "    </tr>\n",
       "    <tr>\n",
       "      <th>3</th>\n",
       "      <td>3143-ILDAL</td>\n",
       "      <td>Male</td>\n",
       "      <td>0</td>\n",
       "      <td>No</td>\n",
       "      <td>No</td>\n",
       "      <td>56</td>\n",
       "      <td>Yes</td>\n",
       "      <td>Yes</td>\n",
       "      <td>Fiber optic</td>\n",
       "      <td>No</td>\n",
       "      <td>...</td>\n",
       "      <td>No</td>\n",
       "      <td>Yes</td>\n",
       "      <td>No</td>\n",
       "      <td>Yes</td>\n",
       "      <td>Month-to-month</td>\n",
       "      <td>Yes</td>\n",
       "      <td>Electronic check</td>\n",
       "      <td>94.45</td>\n",
       "      <td>5124.6</td>\n",
       "      <td>1</td>\n",
       "    </tr>\n",
       "    <tr>\n",
       "      <th>4</th>\n",
       "      <td>0872-NXJYS</td>\n",
       "      <td>Female</td>\n",
       "      <td>0</td>\n",
       "      <td>No</td>\n",
       "      <td>No</td>\n",
       "      <td>9</td>\n",
       "      <td>Yes</td>\n",
       "      <td>No</td>\n",
       "      <td>Fiber optic</td>\n",
       "      <td>No</td>\n",
       "      <td>...</td>\n",
       "      <td>No</td>\n",
       "      <td>No</td>\n",
       "      <td>No</td>\n",
       "      <td>Yes</td>\n",
       "      <td>Month-to-month</td>\n",
       "      <td>Yes</td>\n",
       "      <td>Electronic check</td>\n",
       "      <td>79.55</td>\n",
       "      <td>723.4</td>\n",
       "      <td>1</td>\n",
       "    </tr>\n",
       "  </tbody>\n",
       "</table>\n",
       "<p>5 rows × 21 columns</p>\n",
       "</div>"
      ],
      "text/plain": [
       "   customerID  gender  SeniorCitizen Partner Dependents  tenure PhoneService  \\\n",
       "0  3704-IEAXF  Female              0     Yes        Yes      72           No   \n",
       "1  5175-AOBHI  Female              0      No         No       4          Yes   \n",
       "2  6922-NCEDI    Male              0      No        Yes      56          Yes   \n",
       "3  3143-ILDAL    Male              0      No         No      56          Yes   \n",
       "4  0872-NXJYS  Female              0      No         No       9          Yes   \n",
       "\n",
       "      MultipleLines InternetService       OnlineSecurity  ...  \\\n",
       "0  No phone service             DSL                   No  ...   \n",
       "1                No             DSL                   No  ...   \n",
       "2                No              No  No internet service  ...   \n",
       "3               Yes     Fiber optic                   No  ...   \n",
       "4                No     Fiber optic                   No  ...   \n",
       "\n",
       "      DeviceProtection          TechSupport          StreamingTV  \\\n",
       "0                   No                  Yes                  Yes   \n",
       "1                   No                   No                   No   \n",
       "2  No internet service  No internet service  No internet service   \n",
       "3                   No                  Yes                   No   \n",
       "4                   No                   No                   No   \n",
       "\n",
       "       StreamingMovies        Contract PaperlessBilling  \\\n",
       "0                  Yes        Two year               No   \n",
       "1                   No  Month-to-month              Yes   \n",
       "2  No internet service        One year              Yes   \n",
       "3                  Yes  Month-to-month              Yes   \n",
       "4                  Yes  Month-to-month              Yes   \n",
       "\n",
       "             PaymentMethod MonthlyCharges  TotalCharges Churn  \n",
       "0  Credit card (automatic)          53.65          3784     0  \n",
       "1             Mailed check          46.00         193.6     1  \n",
       "2             Mailed check          21.20       1238.65     0  \n",
       "3         Electronic check          94.45        5124.6     1  \n",
       "4         Electronic check          79.55         723.4     1  \n",
       "\n",
       "[5 rows x 21 columns]"
      ]
     },
     "execution_count": 3,
     "metadata": {},
     "output_type": "execute_result"
    }
   ],
   "source": [
    "df.head()"
   ]
  },
  {
   "cell_type": "code",
   "execution_count": 4,
   "id": "5b3163b1-d54f-4e7a-8180-ad7293ad15f0",
   "metadata": {},
   "outputs": [
    {
     "data": {
      "text/html": [
       "<div>\n",
       "<style scoped>\n",
       "    .dataframe tbody tr th:only-of-type {\n",
       "        vertical-align: middle;\n",
       "    }\n",
       "\n",
       "    .dataframe tbody tr th {\n",
       "        vertical-align: top;\n",
       "    }\n",
       "\n",
       "    .dataframe thead th {\n",
       "        text-align: right;\n",
       "    }\n",
       "</style>\n",
       "<table border=\"1\" class=\"dataframe\">\n",
       "  <thead>\n",
       "    <tr style=\"text-align: right;\">\n",
       "      <th></th>\n",
       "      <th>gender</th>\n",
       "      <th>SeniorCitizen</th>\n",
       "      <th>Partner</th>\n",
       "      <th>Dependents</th>\n",
       "      <th>tenure</th>\n",
       "      <th>PhoneService</th>\n",
       "      <th>MultipleLines</th>\n",
       "      <th>InternetService</th>\n",
       "      <th>OnlineSecurity</th>\n",
       "      <th>OnlineBackup</th>\n",
       "      <th>DeviceProtection</th>\n",
       "      <th>TechSupport</th>\n",
       "      <th>StreamingTV</th>\n",
       "      <th>StreamingMovies</th>\n",
       "      <th>Contract</th>\n",
       "      <th>PaperlessBilling</th>\n",
       "      <th>PaymentMethod</th>\n",
       "      <th>MonthlyCharges</th>\n",
       "      <th>TotalCharges</th>\n",
       "      <th>Churn</th>\n",
       "    </tr>\n",
       "  </thead>\n",
       "  <tbody>\n",
       "    <tr>\n",
       "      <th>0</th>\n",
       "      <td>Female</td>\n",
       "      <td>0</td>\n",
       "      <td>Yes</td>\n",
       "      <td>Yes</td>\n",
       "      <td>72</td>\n",
       "      <td>No</td>\n",
       "      <td>No phone service</td>\n",
       "      <td>DSL</td>\n",
       "      <td>No</td>\n",
       "      <td>Yes</td>\n",
       "      <td>No</td>\n",
       "      <td>Yes</td>\n",
       "      <td>Yes</td>\n",
       "      <td>Yes</td>\n",
       "      <td>Two year</td>\n",
       "      <td>No</td>\n",
       "      <td>Credit card (automatic)</td>\n",
       "      <td>53.65</td>\n",
       "      <td>3784.00</td>\n",
       "      <td>0</td>\n",
       "    </tr>\n",
       "    <tr>\n",
       "      <th>1</th>\n",
       "      <td>Female</td>\n",
       "      <td>0</td>\n",
       "      <td>No</td>\n",
       "      <td>No</td>\n",
       "      <td>4</td>\n",
       "      <td>Yes</td>\n",
       "      <td>No</td>\n",
       "      <td>DSL</td>\n",
       "      <td>No</td>\n",
       "      <td>No</td>\n",
       "      <td>No</td>\n",
       "      <td>No</td>\n",
       "      <td>No</td>\n",
       "      <td>No</td>\n",
       "      <td>Month-to-month</td>\n",
       "      <td>Yes</td>\n",
       "      <td>Mailed check</td>\n",
       "      <td>46.00</td>\n",
       "      <td>193.60</td>\n",
       "      <td>1</td>\n",
       "    </tr>\n",
       "    <tr>\n",
       "      <th>2</th>\n",
       "      <td>Male</td>\n",
       "      <td>0</td>\n",
       "      <td>No</td>\n",
       "      <td>Yes</td>\n",
       "      <td>56</td>\n",
       "      <td>Yes</td>\n",
       "      <td>No</td>\n",
       "      <td>No</td>\n",
       "      <td>No internet service</td>\n",
       "      <td>No internet service</td>\n",
       "      <td>No internet service</td>\n",
       "      <td>No internet service</td>\n",
       "      <td>No internet service</td>\n",
       "      <td>No internet service</td>\n",
       "      <td>One year</td>\n",
       "      <td>Yes</td>\n",
       "      <td>Mailed check</td>\n",
       "      <td>21.20</td>\n",
       "      <td>1238.65</td>\n",
       "      <td>0</td>\n",
       "    </tr>\n",
       "    <tr>\n",
       "      <th>3</th>\n",
       "      <td>Male</td>\n",
       "      <td>0</td>\n",
       "      <td>No</td>\n",
       "      <td>No</td>\n",
       "      <td>56</td>\n",
       "      <td>Yes</td>\n",
       "      <td>Yes</td>\n",
       "      <td>Fiber optic</td>\n",
       "      <td>No</td>\n",
       "      <td>Yes</td>\n",
       "      <td>No</td>\n",
       "      <td>Yes</td>\n",
       "      <td>No</td>\n",
       "      <td>Yes</td>\n",
       "      <td>Month-to-month</td>\n",
       "      <td>Yes</td>\n",
       "      <td>Electronic check</td>\n",
       "      <td>94.45</td>\n",
       "      <td>5124.60</td>\n",
       "      <td>1</td>\n",
       "    </tr>\n",
       "    <tr>\n",
       "      <th>4</th>\n",
       "      <td>Female</td>\n",
       "      <td>0</td>\n",
       "      <td>No</td>\n",
       "      <td>No</td>\n",
       "      <td>9</td>\n",
       "      <td>Yes</td>\n",
       "      <td>No</td>\n",
       "      <td>Fiber optic</td>\n",
       "      <td>No</td>\n",
       "      <td>No</td>\n",
       "      <td>No</td>\n",
       "      <td>No</td>\n",
       "      <td>No</td>\n",
       "      <td>Yes</td>\n",
       "      <td>Month-to-month</td>\n",
       "      <td>Yes</td>\n",
       "      <td>Electronic check</td>\n",
       "      <td>79.55</td>\n",
       "      <td>723.40</td>\n",
       "      <td>1</td>\n",
       "    </tr>\n",
       "  </tbody>\n",
       "</table>\n",
       "</div>"
      ],
      "text/plain": [
       "   gender  SeniorCitizen Partner Dependents  tenure PhoneService  \\\n",
       "0  Female              0     Yes        Yes      72           No   \n",
       "1  Female              0      No         No       4          Yes   \n",
       "2    Male              0      No        Yes      56          Yes   \n",
       "3    Male              0      No         No      56          Yes   \n",
       "4  Female              0      No         No       9          Yes   \n",
       "\n",
       "      MultipleLines InternetService       OnlineSecurity         OnlineBackup  \\\n",
       "0  No phone service             DSL                   No                  Yes   \n",
       "1                No             DSL                   No                   No   \n",
       "2                No              No  No internet service  No internet service   \n",
       "3               Yes     Fiber optic                   No                  Yes   \n",
       "4                No     Fiber optic                   No                   No   \n",
       "\n",
       "      DeviceProtection          TechSupport          StreamingTV  \\\n",
       "0                   No                  Yes                  Yes   \n",
       "1                   No                   No                   No   \n",
       "2  No internet service  No internet service  No internet service   \n",
       "3                   No                  Yes                   No   \n",
       "4                   No                   No                   No   \n",
       "\n",
       "       StreamingMovies        Contract PaperlessBilling  \\\n",
       "0                  Yes        Two year               No   \n",
       "1                   No  Month-to-month              Yes   \n",
       "2  No internet service        One year              Yes   \n",
       "3                  Yes  Month-to-month              Yes   \n",
       "4                  Yes  Month-to-month              Yes   \n",
       "\n",
       "             PaymentMethod  MonthlyCharges  TotalCharges  Churn  \n",
       "0  Credit card (automatic)           53.65       3784.00      0  \n",
       "1             Mailed check           46.00        193.60      1  \n",
       "2             Mailed check           21.20       1238.65      0  \n",
       "3         Electronic check           94.45       5124.60      1  \n",
       "4         Electronic check           79.55        723.40      1  "
      ]
     },
     "execution_count": 4,
     "metadata": {},
     "output_type": "execute_result"
    }
   ],
   "source": [
    "df['TotalCharges'] = pd.to_numeric(df['TotalCharges'], errors='coerce')\n",
    "df = df.drop(['customerID'], axis = 1)\n",
    "df.head()"
   ]
  },
  {
   "cell_type": "code",
   "execution_count": 5,
   "id": "0c988c78-f544-4721-a919-58154814ca54",
   "metadata": {},
   "outputs": [
    {
     "name": "stdout",
     "output_type": "stream",
     "text": [
      "gender\n",
      "['Female' 'Male']\n",
      "------------------------------\n",
      "Partner\n",
      "['Yes' 'No']\n",
      "------------------------------\n",
      "Dependents\n",
      "['Yes' 'No']\n",
      "------------------------------\n",
      "PhoneService\n",
      "['No' 'Yes']\n",
      "------------------------------\n",
      "MultipleLines\n",
      "['No phone service' 'No' 'Yes']\n",
      "------------------------------\n",
      "InternetService\n",
      "['DSL' 'No' 'Fiber optic']\n",
      "------------------------------\n",
      "OnlineSecurity\n",
      "['No' 'No internet service' 'Yes']\n",
      "------------------------------\n",
      "OnlineBackup\n",
      "['Yes' 'No' 'No internet service']\n",
      "------------------------------\n",
      "DeviceProtection\n",
      "['No' 'No internet service' 'Yes']\n",
      "------------------------------\n",
      "TechSupport\n",
      "['Yes' 'No' 'No internet service']\n",
      "------------------------------\n",
      "StreamingTV\n",
      "['Yes' 'No' 'No internet service']\n",
      "------------------------------\n",
      "StreamingMovies\n",
      "['Yes' 'No' 'No internet service']\n",
      "------------------------------\n",
      "Contract\n",
      "['Two year' 'Month-to-month' 'One year']\n",
      "------------------------------\n",
      "PaperlessBilling\n",
      "['No' 'Yes']\n",
      "------------------------------\n",
      "PaymentMethod\n",
      "['Credit card (automatic)' 'Mailed check' 'Electronic check'\n",
      " 'Bank transfer (automatic)']\n",
      "------------------------------\n"
     ]
    }
   ],
   "source": [
    "# Checking individual categories of our categorical columns\n",
    "for col in df.describe(include = 'object').columns:\n",
    "    print(col)\n",
    "    print(df[col].unique())\n",
    "    print('-'*30)"
   ]
  },
  {
   "cell_type": "code",
   "execution_count": 6,
   "id": "fd325d67-af0a-41db-a809-2cf53df06163",
   "metadata": {},
   "outputs": [
    {
     "data": {
      "text/plain": [
       "Index(['gender', 'SeniorCitizen', 'Partner', 'Dependents', 'tenure',\n",
       "       'PhoneService', 'MultipleLines', 'InternetService', 'OnlineSecurity',\n",
       "       'OnlineBackup', 'DeviceProtection', 'TechSupport', 'StreamingTV',\n",
       "       'StreamingMovies', 'Contract', 'PaperlessBilling', 'PaymentMethod',\n",
       "       'MonthlyCharges', 'TotalCharges', 'Churn'],\n",
       "      dtype='object')"
      ]
     },
     "execution_count": 6,
     "metadata": {},
     "output_type": "execute_result"
    }
   ],
   "source": [
    "df.columns"
   ]
  },
  {
   "cell_type": "code",
   "execution_count": 7,
   "id": "5d3afe5a-da7f-4b84-8660-44ea186bd428",
   "metadata": {},
   "outputs": [
    {
     "name": "stdout",
     "output_type": "stream",
     "text": [
      "<class 'pandas.core.frame.DataFrame'>\n",
      "RangeIndex: 5282 entries, 0 to 5281\n",
      "Data columns (total 20 columns):\n",
      " #   Column            Non-Null Count  Dtype  \n",
      "---  ------            --------------  -----  \n",
      " 0   gender            5282 non-null   object \n",
      " 1   SeniorCitizen     5282 non-null   int64  \n",
      " 2   Partner           5282 non-null   object \n",
      " 3   Dependents        5282 non-null   object \n",
      " 4   tenure            5282 non-null   int64  \n",
      " 5   PhoneService      5282 non-null   object \n",
      " 6   MultipleLines     5282 non-null   object \n",
      " 7   InternetService   5282 non-null   object \n",
      " 8   OnlineSecurity    5282 non-null   object \n",
      " 9   OnlineBackup      5282 non-null   object \n",
      " 10  DeviceProtection  5282 non-null   object \n",
      " 11  TechSupport       5282 non-null   object \n",
      " 12  StreamingTV       5282 non-null   object \n",
      " 13  StreamingMovies   5282 non-null   object \n",
      " 14  Contract          5282 non-null   object \n",
      " 15  PaperlessBilling  5282 non-null   object \n",
      " 16  PaymentMethod     5282 non-null   object \n",
      " 17  MonthlyCharges    5282 non-null   float64\n",
      " 18  TotalCharges      5274 non-null   float64\n",
      " 19  Churn             5282 non-null   int64  \n",
      "dtypes: float64(2), int64(3), object(15)\n",
      "memory usage: 825.4+ KB\n"
     ]
    }
   ],
   "source": [
    "df.info()"
   ]
  },
  {
   "cell_type": "code",
   "execution_count": 8,
   "id": "726ba188-dd44-4d8b-b43f-d70ea8e24273",
   "metadata": {},
   "outputs": [],
   "source": [
    "df['Churn'] = df['Churn'].astype('object')\n",
    "df['SeniorCitizen'] = df['SeniorCitizen'].astype('object')\n"
   ]
  },
  {
   "cell_type": "code",
   "execution_count": 9,
   "id": "2c6814bb-5cd5-4a2a-8730-3b0ba1a00120",
   "metadata": {},
   "outputs": [
    {
     "name": "stdout",
     "output_type": "stream",
     "text": [
      "<class 'pandas.core.frame.DataFrame'>\n",
      "RangeIndex: 5282 entries, 0 to 5281\n",
      "Data columns (total 20 columns):\n",
      " #   Column            Non-Null Count  Dtype  \n",
      "---  ------            --------------  -----  \n",
      " 0   gender            5282 non-null   object \n",
      " 1   SeniorCitizen     5282 non-null   object \n",
      " 2   Partner           5282 non-null   object \n",
      " 3   Dependents        5282 non-null   object \n",
      " 4   tenure            5282 non-null   int64  \n",
      " 5   PhoneService      5282 non-null   object \n",
      " 6   MultipleLines     5282 non-null   object \n",
      " 7   InternetService   5282 non-null   object \n",
      " 8   OnlineSecurity    5282 non-null   object \n",
      " 9   OnlineBackup      5282 non-null   object \n",
      " 10  DeviceProtection  5282 non-null   object \n",
      " 11  TechSupport       5282 non-null   object \n",
      " 12  StreamingTV       5282 non-null   object \n",
      " 13  StreamingMovies   5282 non-null   object \n",
      " 14  Contract          5282 non-null   object \n",
      " 15  PaperlessBilling  5282 non-null   object \n",
      " 16  PaymentMethod     5282 non-null   object \n",
      " 17  MonthlyCharges    5282 non-null   float64\n",
      " 18  TotalCharges      5274 non-null   float64\n",
      " 19  Churn             5282 non-null   object \n",
      "dtypes: float64(2), int64(1), object(17)\n",
      "memory usage: 825.4+ KB\n"
     ]
    }
   ],
   "source": [
    "df.info()"
   ]
  },
  {
   "cell_type": "code",
   "execution_count": 10,
   "id": "a40b804c-8522-4560-b22f-b9bc007a6e96",
   "metadata": {},
   "outputs": [],
   "source": [
    "# Divide the columns into 3 categories, one ofor standardisation, one for label encoding and one for\n",
    "# one hot encoding\n",
    "label_encoding = ['PaperlessBilling','PhoneService','Dependents','Partner','Churn','SeniorCitizen',\n",
    "                 'gender']\n",
    "num_cols = [\"tenure\", 'MonthlyCharges', 'TotalCharges']\n",
    "one_hot_encoding = ['PaymentMethod','Contract','StreamingMovies','StreamingTV','TechSupport',\n",
    "                   'DeviceProtection','OnlineBackup','InternetService','MultipleLines','OnlineSecurity']"
   ]
  },
  {
   "cell_type": "code",
   "execution_count": 11,
   "id": "38ec70ea-8ee6-4a03-b8c7-98661808992a",
   "metadata": {},
   "outputs": [],
   "source": [
    "from sklearn.preprocessing import MinMaxScaler\n",
    "\n",
    "scaler = MinMaxScaler()\n",
    "df[num_cols] = scaler.fit_transform(df[num_cols])\n"
   ]
  },
  {
   "cell_type": "code",
   "execution_count": 12,
   "id": "f6769c3b-b0dc-4b77-98c7-ea49ac104ef8",
   "metadata": {},
   "outputs": [],
   "source": [
    "from sklearn.preprocessing import LabelEncoder\n",
    "\n",
    "label_encoder = LabelEncoder()\n",
    "for col in label_encoding:\n",
    "    df[col] = label_encoder.fit_transform(df[col])\n"
   ]
  },
  {
   "cell_type": "code",
   "execution_count": 13,
   "id": "628294ca-152e-447a-9870-fbfa0020c507",
   "metadata": {},
   "outputs": [],
   "source": [
    "df = pd.get_dummies(df, columns=one_hot_encoding, drop_first=True)\n"
   ]
  },
  {
   "cell_type": "code",
   "execution_count": 14,
   "id": "eae9fa5f-e5f9-42cc-92c8-604e40dc7ec8",
   "metadata": {},
   "outputs": [
    {
     "name": "stdout",
     "output_type": "stream",
     "text": [
      "<class 'pandas.core.frame.DataFrame'>\n",
      "RangeIndex: 5282 entries, 0 to 5281\n",
      "Data columns (total 31 columns):\n",
      " #   Column                                 Non-Null Count  Dtype  \n",
      "---  ------                                 --------------  -----  \n",
      " 0   gender                                 5282 non-null   int32  \n",
      " 1   SeniorCitizen                          5282 non-null   int32  \n",
      " 2   Partner                                5282 non-null   int32  \n",
      " 3   Dependents                             5282 non-null   int32  \n",
      " 4   tenure                                 5282 non-null   float64\n",
      " 5   PhoneService                           5282 non-null   int32  \n",
      " 6   PaperlessBilling                       5282 non-null   int32  \n",
      " 7   MonthlyCharges                         5282 non-null   float64\n",
      " 8   TotalCharges                           5274 non-null   float64\n",
      " 9   Churn                                  5282 non-null   int32  \n",
      " 10  PaymentMethod_Credit card (automatic)  5282 non-null   uint8  \n",
      " 11  PaymentMethod_Electronic check         5282 non-null   uint8  \n",
      " 12  PaymentMethod_Mailed check             5282 non-null   uint8  \n",
      " 13  Contract_One year                      5282 non-null   uint8  \n",
      " 14  Contract_Two year                      5282 non-null   uint8  \n",
      " 15  StreamingMovies_No internet service    5282 non-null   uint8  \n",
      " 16  StreamingMovies_Yes                    5282 non-null   uint8  \n",
      " 17  StreamingTV_No internet service        5282 non-null   uint8  \n",
      " 18  StreamingTV_Yes                        5282 non-null   uint8  \n",
      " 19  TechSupport_No internet service        5282 non-null   uint8  \n",
      " 20  TechSupport_Yes                        5282 non-null   uint8  \n",
      " 21  DeviceProtection_No internet service   5282 non-null   uint8  \n",
      " 22  DeviceProtection_Yes                   5282 non-null   uint8  \n",
      " 23  OnlineBackup_No internet service       5282 non-null   uint8  \n",
      " 24  OnlineBackup_Yes                       5282 non-null   uint8  \n",
      " 25  InternetService_Fiber optic            5282 non-null   uint8  \n",
      " 26  InternetService_No                     5282 non-null   uint8  \n",
      " 27  MultipleLines_No phone service         5282 non-null   uint8  \n",
      " 28  MultipleLines_Yes                      5282 non-null   uint8  \n",
      " 29  OnlineSecurity_No internet service     5282 non-null   uint8  \n",
      " 30  OnlineSecurity_Yes                     5282 non-null   uint8  \n",
      "dtypes: float64(3), int32(7), uint8(21)\n",
      "memory usage: 376.7 KB\n"
     ]
    }
   ],
   "source": [
    "df.info()"
   ]
  },
  {
   "cell_type": "code",
   "execution_count": 15,
   "id": "86b2bf34-9ff1-4595-9955-86dc9560813f",
   "metadata": {},
   "outputs": [
    {
     "data": {
      "text/plain": [
       "gender                                   0\n",
       "SeniorCitizen                            0\n",
       "Partner                                  0\n",
       "Dependents                               0\n",
       "tenure                                   0\n",
       "PhoneService                             0\n",
       "PaperlessBilling                         0\n",
       "MonthlyCharges                           0\n",
       "TotalCharges                             8\n",
       "Churn                                    0\n",
       "PaymentMethod_Credit card (automatic)    0\n",
       "PaymentMethod_Electronic check           0\n",
       "PaymentMethod_Mailed check               0\n",
       "Contract_One year                        0\n",
       "Contract_Two year                        0\n",
       "StreamingMovies_No internet service      0\n",
       "StreamingMovies_Yes                      0\n",
       "StreamingTV_No internet service          0\n",
       "StreamingTV_Yes                          0\n",
       "TechSupport_No internet service          0\n",
       "TechSupport_Yes                          0\n",
       "DeviceProtection_No internet service     0\n",
       "DeviceProtection_Yes                     0\n",
       "OnlineBackup_No internet service         0\n",
       "OnlineBackup_Yes                         0\n",
       "InternetService_Fiber optic              0\n",
       "InternetService_No                       0\n",
       "MultipleLines_No phone service           0\n",
       "MultipleLines_Yes                        0\n",
       "OnlineSecurity_No internet service       0\n",
       "OnlineSecurity_Yes                       0\n",
       "dtype: int64"
      ]
     },
     "execution_count": 15,
     "metadata": {},
     "output_type": "execute_result"
    }
   ],
   "source": [
    "df.isnull().sum()"
   ]
  },
  {
   "cell_type": "code",
   "execution_count": 16,
   "id": "691c895a-858c-4806-90ab-32267683bc98",
   "metadata": {},
   "outputs": [],
   "source": [
    "df.dropna(inplace= True)"
   ]
  },
  {
   "cell_type": "code",
   "execution_count": 17,
   "id": "e9e5f750-f0d4-4e67-be11-c18f31550f09",
   "metadata": {},
   "outputs": [
    {
     "data": {
      "text/plain": [
       "gender                                   0\n",
       "SeniorCitizen                            0\n",
       "Partner                                  0\n",
       "Dependents                               0\n",
       "tenure                                   0\n",
       "PhoneService                             0\n",
       "PaperlessBilling                         0\n",
       "MonthlyCharges                           0\n",
       "TotalCharges                             0\n",
       "Churn                                    0\n",
       "PaymentMethod_Credit card (automatic)    0\n",
       "PaymentMethod_Electronic check           0\n",
       "PaymentMethod_Mailed check               0\n",
       "Contract_One year                        0\n",
       "Contract_Two year                        0\n",
       "StreamingMovies_No internet service      0\n",
       "StreamingMovies_Yes                      0\n",
       "StreamingTV_No internet service          0\n",
       "StreamingTV_Yes                          0\n",
       "TechSupport_No internet service          0\n",
       "TechSupport_Yes                          0\n",
       "DeviceProtection_No internet service     0\n",
       "DeviceProtection_Yes                     0\n",
       "OnlineBackup_No internet service         0\n",
       "OnlineBackup_Yes                         0\n",
       "InternetService_Fiber optic              0\n",
       "InternetService_No                       0\n",
       "MultipleLines_No phone service           0\n",
       "MultipleLines_Yes                        0\n",
       "OnlineSecurity_No internet service       0\n",
       "OnlineSecurity_Yes                       0\n",
       "dtype: int64"
      ]
     },
     "execution_count": 17,
     "metadata": {},
     "output_type": "execute_result"
    }
   ],
   "source": [
    "df.isnull().sum()"
   ]
  },
  {
   "cell_type": "markdown",
   "id": "a1db27d6-a82b-4432-a13e-51847d9968f2",
   "metadata": {},
   "source": [
    "## Now we will develop some predictive models and compare them."
   ]
  },
  {
   "cell_type": "markdown",
   "id": "4b9443ba-359d-4ac5-9da0-7ad95be5a627",
   "metadata": {},
   "source": [
    "We will develop Logistic Regression, Decision Tree, Random Forest and Gradient Boosting"
   ]
  },
  {
   "cell_type": "code",
   "execution_count": 18,
   "id": "c87e0280-0157-4b21-9ad8-da7a36eb3af7",
   "metadata": {},
   "outputs": [],
   "source": [
    "# Select features (X) and target (y)\n",
    "X = df.drop('Churn', axis=1)\n",
    "y = df['Churn']\n",
    "\n",
    "# Encode categorical variables (create dummy variables)\n",
    "# X = pd.get_dummies(X, drop_first=True)\n",
    "\n",
    "# Split the data into training and testing sets\n",
    "X_train, X_test, y_train, y_test = train_test_split(X, y, test_size=0.3, random_state=42)"
   ]
  },
  {
   "cell_type": "markdown",
   "id": "7e1b03ca-f415-4f83-b9a5-c6ad8153b36c",
   "metadata": {},
   "source": [
    "**1. Logistic Regression**"
   ]
  },
  {
   "cell_type": "code",
   "execution_count": 19,
   "id": "f9328ebd-6df6-4dd0-9ed6-1f86fb4a5393",
   "metadata": {},
   "outputs": [
    {
     "data": {
      "text/html": [
       "<style>#sk-container-id-1 {color: black;background-color: white;}#sk-container-id-1 pre{padding: 0;}#sk-container-id-1 div.sk-toggleable {background-color: white;}#sk-container-id-1 label.sk-toggleable__label {cursor: pointer;display: block;width: 100%;margin-bottom: 0;padding: 0.3em;box-sizing: border-box;text-align: center;}#sk-container-id-1 label.sk-toggleable__label-arrow:before {content: \"▸\";float: left;margin-right: 0.25em;color: #696969;}#sk-container-id-1 label.sk-toggleable__label-arrow:hover:before {color: black;}#sk-container-id-1 div.sk-estimator:hover label.sk-toggleable__label-arrow:before {color: black;}#sk-container-id-1 div.sk-toggleable__content {max-height: 0;max-width: 0;overflow: hidden;text-align: left;background-color: #f0f8ff;}#sk-container-id-1 div.sk-toggleable__content pre {margin: 0.2em;color: black;border-radius: 0.25em;background-color: #f0f8ff;}#sk-container-id-1 input.sk-toggleable__control:checked~div.sk-toggleable__content {max-height: 200px;max-width: 100%;overflow: auto;}#sk-container-id-1 input.sk-toggleable__control:checked~label.sk-toggleable__label-arrow:before {content: \"▾\";}#sk-container-id-1 div.sk-estimator input.sk-toggleable__control:checked~label.sk-toggleable__label {background-color: #d4ebff;}#sk-container-id-1 div.sk-label input.sk-toggleable__control:checked~label.sk-toggleable__label {background-color: #d4ebff;}#sk-container-id-1 input.sk-hidden--visually {border: 0;clip: rect(1px 1px 1px 1px);clip: rect(1px, 1px, 1px, 1px);height: 1px;margin: -1px;overflow: hidden;padding: 0;position: absolute;width: 1px;}#sk-container-id-1 div.sk-estimator {font-family: monospace;background-color: #f0f8ff;border: 1px dotted black;border-radius: 0.25em;box-sizing: border-box;margin-bottom: 0.5em;}#sk-container-id-1 div.sk-estimator:hover {background-color: #d4ebff;}#sk-container-id-1 div.sk-parallel-item::after {content: \"\";width: 100%;border-bottom: 1px solid gray;flex-grow: 1;}#sk-container-id-1 div.sk-label:hover label.sk-toggleable__label {background-color: #d4ebff;}#sk-container-id-1 div.sk-serial::before {content: \"\";position: absolute;border-left: 1px solid gray;box-sizing: border-box;top: 0;bottom: 0;left: 50%;z-index: 0;}#sk-container-id-1 div.sk-serial {display: flex;flex-direction: column;align-items: center;background-color: white;padding-right: 0.2em;padding-left: 0.2em;position: relative;}#sk-container-id-1 div.sk-item {position: relative;z-index: 1;}#sk-container-id-1 div.sk-parallel {display: flex;align-items: stretch;justify-content: center;background-color: white;position: relative;}#sk-container-id-1 div.sk-item::before, #sk-container-id-1 div.sk-parallel-item::before {content: \"\";position: absolute;border-left: 1px solid gray;box-sizing: border-box;top: 0;bottom: 0;left: 50%;z-index: -1;}#sk-container-id-1 div.sk-parallel-item {display: flex;flex-direction: column;z-index: 1;position: relative;background-color: white;}#sk-container-id-1 div.sk-parallel-item:first-child::after {align-self: flex-end;width: 50%;}#sk-container-id-1 div.sk-parallel-item:last-child::after {align-self: flex-start;width: 50%;}#sk-container-id-1 div.sk-parallel-item:only-child::after {width: 0;}#sk-container-id-1 div.sk-dashed-wrapped {border: 1px dashed gray;margin: 0 0.4em 0.5em 0.4em;box-sizing: border-box;padding-bottom: 0.4em;background-color: white;}#sk-container-id-1 div.sk-label label {font-family: monospace;font-weight: bold;display: inline-block;line-height: 1.2em;}#sk-container-id-1 div.sk-label-container {text-align: center;}#sk-container-id-1 div.sk-container {/* jupyter's `normalize.less` sets `[hidden] { display: none; }` but bootstrap.min.css set `[hidden] { display: none !important; }` so we also need the `!important` here to be able to override the default hidden behavior on the sphinx rendered scikit-learn.org. See: https://github.com/scikit-learn/scikit-learn/issues/21755 */display: inline-block !important;position: relative;}#sk-container-id-1 div.sk-text-repr-fallback {display: none;}</style><div id=\"sk-container-id-1\" class=\"sk-top-container\"><div class=\"sk-text-repr-fallback\"><pre>LogisticRegression()</pre><b>In a Jupyter environment, please rerun this cell to show the HTML representation or trust the notebook. <br />On GitHub, the HTML representation is unable to render, please try loading this page with nbviewer.org.</b></div><div class=\"sk-container\" hidden><div class=\"sk-item\"><div class=\"sk-estimator sk-toggleable\"><input class=\"sk-toggleable__control sk-hidden--visually\" id=\"sk-estimator-id-1\" type=\"checkbox\" checked><label for=\"sk-estimator-id-1\" class=\"sk-toggleable__label sk-toggleable__label-arrow\">LogisticRegression</label><div class=\"sk-toggleable__content\"><pre>LogisticRegression()</pre></div></div></div></div></div>"
      ],
      "text/plain": [
       "LogisticRegression()"
      ]
     },
     "execution_count": 19,
     "metadata": {},
     "output_type": "execute_result"
    }
   ],
   "source": [
    "# Create a logistic regression model\n",
    "model = LogisticRegression()\n",
    "\n",
    "# Train the model on the training data\n",
    "model.fit(X_train, y_train)\n"
   ]
  },
  {
   "cell_type": "code",
   "execution_count": 20,
   "id": "3264fd2a-c754-4dc5-85c4-68c7f9a62af7",
   "metadata": {},
   "outputs": [
    {
     "name": "stdout",
     "output_type": "stream",
     "text": [
      "Accuracy: 0.8104864181933038\n",
      "\n",
      "Confusion Matrix:\n",
      " [[1039  109]\n",
      " [ 191  244]]\n",
      "\n",
      "Classification Report:\n",
      "               precision    recall  f1-score   support\n",
      "\n",
      "           0       0.84      0.91      0.87      1148\n",
      "           1       0.69      0.56      0.62       435\n",
      "\n",
      "    accuracy                           0.81      1583\n",
      "   macro avg       0.77      0.73      0.75      1583\n",
      "weighted avg       0.80      0.81      0.80      1583\n",
      "\n"
     ]
    }
   ],
   "source": [
    "# Make predictions on the test data\n",
    "y_pred = model.predict(X_test)\n",
    "\n",
    "# Evaluate the model's performance\n",
    "print(\"Accuracy:\", accuracy_score(y_test, y_pred))\n",
    "print(\"\\nConfusion Matrix:\\n\", confusion_matrix(y_test, y_pred))\n",
    "print(\"\\nClassification Report:\\n\", classification_report(y_test, y_pred))\n"
   ]
  },
  {
   "cell_type": "markdown",
   "id": "1999019f-f789-4364-9859-c053fc3e7cd9",
   "metadata": {},
   "source": [
    "As you can see that the accuracy is quite low, and as it's an imbalanced dataset, we shouldn't consider Accuracy as our metrics to measure the model, as Accuracy is cursed in imbalanced datasets.\n",
    "\n",
    "\n",
    "Hence, we need to check recall, precision & f1 score for the minority class, and it's quite evident that the precision, recall & f1 score is too low for Class 1, i.e. churned customers."
   ]
  },
  {
   "cell_type": "markdown",
   "id": "9ce883be-eb1f-40c3-882a-b88fa93a2931",
   "metadata": {},
   "source": [
    "### We have already seen that our data is highly inbalanced the chrnuers were around 26% where as Non-churnurs were 74%.Let's overcome this and try to improve our model accuracy."
   ]
  },
  {
   "cell_type": "code",
   "execution_count": 21,
   "id": "8e878336-93fb-4883-a27a-b0951e4548dc",
   "metadata": {},
   "outputs": [],
   "source": [
    "from imblearn.over_sampling import SMOTE\n",
    "\n",
    "smote = SMOTE()\n",
    "X_train_resampled, y_train_resampled = smote.fit_resample(X_train, y_train)\n"
   ]
  },
  {
   "cell_type": "code",
   "execution_count": 22,
   "id": "ac4fa793-39b5-4e14-8605-a6733a12826d",
   "metadata": {},
   "outputs": [
    {
     "name": "stdout",
     "output_type": "stream",
     "text": [
      "Percentage of Churn 0: 50.00%\n",
      "Percentage of Churn 1: 50.00%\n"
     ]
    }
   ],
   "source": [
    "percentage_churn_0 = np.mean(y_train_resampled == 0) * 100\n",
    "percentage_churn_1 = np.mean(y_train_resampled == 1) * 100\n",
    "\n",
    "print(f\"Percentage of Churn 0: {percentage_churn_0:.2f}%\")\n",
    "print(f\"Percentage of Churn 1: {percentage_churn_1:.2f}%\")\n"
   ]
  },
  {
   "cell_type": "code",
   "execution_count": 23,
   "id": "3aa734db-ba1c-4af7-9932-b2d1b4030b07",
   "metadata": {},
   "outputs": [
    {
     "name": "stdout",
     "output_type": "stream",
     "text": [
      "Accuracy: 0.7555274794693619\n",
      "\n",
      "Confusion Matrix:\n",
      " [[866 282]\n",
      " [105 330]]\n",
      "Classification Report:\n",
      "               precision    recall  f1-score   support\n",
      "\n",
      "           0       0.89      0.75      0.82      1148\n",
      "           1       0.54      0.76      0.63       435\n",
      "\n",
      "    accuracy                           0.76      1583\n",
      "   macro avg       0.72      0.76      0.72      1583\n",
      "weighted avg       0.79      0.76      0.77      1583\n",
      "\n"
     ]
    }
   ],
   "source": [
    "# Train the model on the upsampled training data\n",
    "model.fit(X_train_resampled, y_train_resampled)\n",
    "\n",
    "# Make predictions on the test set\n",
    "y_pred_lr = model.predict(X_test)\n",
    "\n",
    "# Evaluate the model's performance (e.g., using accuracy, precision, recall, F1-score)\n",
    "from sklearn.metrics import classification_report, accuracy_score\n",
    "\n",
    "print(\"Accuracy:\", accuracy_score(y_test, y_pred_lr))\n",
    "print(\"\\nConfusion Matrix:\\n\", confusion_matrix(y_test, y_pred_lr))\n",
    "print(\"Classification Report:\\n\", classification_report(y_test, y_pred_lr))\n"
   ]
  },
  {
   "cell_type": "markdown",
   "id": "35057562-1674-4cbf-847d-20da423713dc",
   "metadata": {},
   "source": [
    "**2. Decision Tree Classifier**"
   ]
  },
  {
   "cell_type": "code",
   "execution_count": 24,
   "id": "d21036a8-46d9-46f9-b3b3-d93a3ac9393d",
   "metadata": {},
   "outputs": [
    {
     "data": {
      "text/html": [
       "<style>#sk-container-id-2 {color: black;background-color: white;}#sk-container-id-2 pre{padding: 0;}#sk-container-id-2 div.sk-toggleable {background-color: white;}#sk-container-id-2 label.sk-toggleable__label {cursor: pointer;display: block;width: 100%;margin-bottom: 0;padding: 0.3em;box-sizing: border-box;text-align: center;}#sk-container-id-2 label.sk-toggleable__label-arrow:before {content: \"▸\";float: left;margin-right: 0.25em;color: #696969;}#sk-container-id-2 label.sk-toggleable__label-arrow:hover:before {color: black;}#sk-container-id-2 div.sk-estimator:hover label.sk-toggleable__label-arrow:before {color: black;}#sk-container-id-2 div.sk-toggleable__content {max-height: 0;max-width: 0;overflow: hidden;text-align: left;background-color: #f0f8ff;}#sk-container-id-2 div.sk-toggleable__content pre {margin: 0.2em;color: black;border-radius: 0.25em;background-color: #f0f8ff;}#sk-container-id-2 input.sk-toggleable__control:checked~div.sk-toggleable__content {max-height: 200px;max-width: 100%;overflow: auto;}#sk-container-id-2 input.sk-toggleable__control:checked~label.sk-toggleable__label-arrow:before {content: \"▾\";}#sk-container-id-2 div.sk-estimator input.sk-toggleable__control:checked~label.sk-toggleable__label {background-color: #d4ebff;}#sk-container-id-2 div.sk-label input.sk-toggleable__control:checked~label.sk-toggleable__label {background-color: #d4ebff;}#sk-container-id-2 input.sk-hidden--visually {border: 0;clip: rect(1px 1px 1px 1px);clip: rect(1px, 1px, 1px, 1px);height: 1px;margin: -1px;overflow: hidden;padding: 0;position: absolute;width: 1px;}#sk-container-id-2 div.sk-estimator {font-family: monospace;background-color: #f0f8ff;border: 1px dotted black;border-radius: 0.25em;box-sizing: border-box;margin-bottom: 0.5em;}#sk-container-id-2 div.sk-estimator:hover {background-color: #d4ebff;}#sk-container-id-2 div.sk-parallel-item::after {content: \"\";width: 100%;border-bottom: 1px solid gray;flex-grow: 1;}#sk-container-id-2 div.sk-label:hover label.sk-toggleable__label {background-color: #d4ebff;}#sk-container-id-2 div.sk-serial::before {content: \"\";position: absolute;border-left: 1px solid gray;box-sizing: border-box;top: 0;bottom: 0;left: 50%;z-index: 0;}#sk-container-id-2 div.sk-serial {display: flex;flex-direction: column;align-items: center;background-color: white;padding-right: 0.2em;padding-left: 0.2em;position: relative;}#sk-container-id-2 div.sk-item {position: relative;z-index: 1;}#sk-container-id-2 div.sk-parallel {display: flex;align-items: stretch;justify-content: center;background-color: white;position: relative;}#sk-container-id-2 div.sk-item::before, #sk-container-id-2 div.sk-parallel-item::before {content: \"\";position: absolute;border-left: 1px solid gray;box-sizing: border-box;top: 0;bottom: 0;left: 50%;z-index: -1;}#sk-container-id-2 div.sk-parallel-item {display: flex;flex-direction: column;z-index: 1;position: relative;background-color: white;}#sk-container-id-2 div.sk-parallel-item:first-child::after {align-self: flex-end;width: 50%;}#sk-container-id-2 div.sk-parallel-item:last-child::after {align-self: flex-start;width: 50%;}#sk-container-id-2 div.sk-parallel-item:only-child::after {width: 0;}#sk-container-id-2 div.sk-dashed-wrapped {border: 1px dashed gray;margin: 0 0.4em 0.5em 0.4em;box-sizing: border-box;padding-bottom: 0.4em;background-color: white;}#sk-container-id-2 div.sk-label label {font-family: monospace;font-weight: bold;display: inline-block;line-height: 1.2em;}#sk-container-id-2 div.sk-label-container {text-align: center;}#sk-container-id-2 div.sk-container {/* jupyter's `normalize.less` sets `[hidden] { display: none; }` but bootstrap.min.css set `[hidden] { display: none !important; }` so we also need the `!important` here to be able to override the default hidden behavior on the sphinx rendered scikit-learn.org. See: https://github.com/scikit-learn/scikit-learn/issues/21755 */display: inline-block !important;position: relative;}#sk-container-id-2 div.sk-text-repr-fallback {display: none;}</style><div id=\"sk-container-id-2\" class=\"sk-top-container\"><div class=\"sk-text-repr-fallback\"><pre>DecisionTreeClassifier(max_depth=6, min_samples_leaf=8, random_state=100)</pre><b>In a Jupyter environment, please rerun this cell to show the HTML representation or trust the notebook. <br />On GitHub, the HTML representation is unable to render, please try loading this page with nbviewer.org.</b></div><div class=\"sk-container\" hidden><div class=\"sk-item\"><div class=\"sk-estimator sk-toggleable\"><input class=\"sk-toggleable__control sk-hidden--visually\" id=\"sk-estimator-id-2\" type=\"checkbox\" checked><label for=\"sk-estimator-id-2\" class=\"sk-toggleable__label sk-toggleable__label-arrow\">DecisionTreeClassifier</label><div class=\"sk-toggleable__content\"><pre>DecisionTreeClassifier(max_depth=6, min_samples_leaf=8, random_state=100)</pre></div></div></div></div></div>"
      ],
      "text/plain": [
       "DecisionTreeClassifier(max_depth=6, min_samples_leaf=8, random_state=100)"
      ]
     },
     "execution_count": 24,
     "metadata": {},
     "output_type": "execute_result"
    }
   ],
   "source": [
    "from sklearn.tree import DecisionTreeClassifier\n",
    "\n",
    "# Create a Decision Tree Classifier model\n",
    "model_dt=DecisionTreeClassifier(criterion = \"gini\",random_state = 100,max_depth=6, min_samples_leaf=8)\n",
    "\n",
    "# Train the model on the training data\n",
    "model_dt.fit(X_train,y_train)\n"
   ]
  },
  {
   "cell_type": "code",
   "execution_count": 25,
   "id": "fd6ab82b-bf36-4d82-ba00-156a2aca808c",
   "metadata": {},
   "outputs": [
    {
     "name": "stdout",
     "output_type": "stream",
     "text": [
      "Accuracy: 0.7555274794693619\n",
      "\n",
      "Confusion Matrix:\n",
      " [[866 282]\n",
      " [105 330]]\n",
      "\n",
      "Classification Report:\n",
      "               precision    recall  f1-score   support\n",
      "\n",
      "           0       0.89      0.75      0.82      1148\n",
      "           1       0.54      0.76      0.63       435\n",
      "\n",
      "    accuracy                           0.76      1583\n",
      "   macro avg       0.72      0.76      0.72      1583\n",
      "weighted avg       0.79      0.76      0.77      1583\n",
      "\n"
     ]
    }
   ],
   "source": [
    "# Make predictions on the test data\n",
    "y_preddt = model.predict(X_test)\n",
    "\n",
    "# Evaluate the model's performance\n",
    "print(\"Accuracy:\", accuracy_score(y_test, y_preddt))\n",
    "print(\"\\nConfusion Matrix:\\n\", confusion_matrix(y_test, y_preddt))\n",
    "print(\"\\nClassification Report:\\n\", classification_report(y_test, y_preddt))\n"
   ]
  },
  {
   "cell_type": "markdown",
   "id": "6f4054d0-f868-41d2-9787-02425afa3bd8",
   "metadata": {},
   "source": [
    "### Let's see score after upsampling."
   ]
  },
  {
   "cell_type": "code",
   "execution_count": 26,
   "id": "00d247a5-3e59-4987-8397-dbcb217f13b2",
   "metadata": {},
   "outputs": [
    {
     "name": "stdout",
     "output_type": "stream",
     "text": [
      "Accuracy: 0.7195198989260897\n",
      "\n",
      "Confusion Matrix:\n",
      " [[793 355]\n",
      " [ 89 346]]\n",
      "Classification Report:\n",
      "               precision    recall  f1-score   support\n",
      "\n",
      "           0       0.90      0.69      0.78      1148\n",
      "           1       0.49      0.80      0.61       435\n",
      "\n",
      "    accuracy                           0.72      1583\n",
      "   macro avg       0.70      0.74      0.70      1583\n",
      "weighted avg       0.79      0.72      0.73      1583\n",
      "\n"
     ]
    }
   ],
   "source": [
    "smote = SMOTE()\n",
    "X_train_resampled1, y_train_resampled1 = smote.fit_resample(X_train, y_train)\n",
    "\n",
    "# Train the model on the upsampled training data\n",
    "model_dt.fit(X_train_resampled1, y_train_resampled1)\n",
    "\n",
    "# Make predictions on the test set\n",
    "y_pred_dt = model_dt.predict(X_test)\n",
    "\n",
    "# Evaluate the model's performance\n",
    "print(\"Accuracy:\", accuracy_score(y_test, y_pred_dt))\n",
    "print(\"\\nConfusion Matrix:\\n\", confusion_matrix(y_test, y_pred_dt))\n",
    "print(\"Classification Report:\\n\", classification_report(y_test, y_pred_dt))\n"
   ]
  },
  {
   "cell_type": "markdown",
   "id": "daacdc5a-b4eb-4458-8e1c-7511b3f9b9ea",
   "metadata": {},
   "source": [
    "### Let's experiment with different hyperparameters for our Decision Tree model."
   ]
  },
  {
   "cell_type": "code",
   "execution_count": 27,
   "id": "5e09476c-d133-4e1c-ab84-d0d1a622a5cb",
   "metadata": {},
   "outputs": [
    {
     "name": "stdout",
     "output_type": "stream",
     "text": [
      "Accuracy: 0.7431279620853081\n",
      "\n",
      "Confusion Matrix:\n",
      " [[593 187]\n",
      " [ 84 191]]\n",
      "\n",
      "Classification Report:\n",
      "               precision    recall  f1-score   support\n",
      "\n",
      "           0       0.88      0.76      0.81       780\n",
      "           1       0.51      0.69      0.58       275\n",
      "\n",
      "    accuracy                           0.74      1055\n",
      "   macro avg       0.69      0.73      0.70      1055\n",
      "weighted avg       0.78      0.74      0.75      1055\n",
      "\n"
     ]
    }
   ],
   "source": [
    "from sklearn.model_selection import  StratifiedKFold, GridSearchCV\n",
    "\n",
    "# Split the data into training and testing sets\n",
    "X_train, X_test, y_train, y_test = train_test_split(X, y, test_size=0.2, random_state=100)\n",
    "\n",
    "# Apply SMOTE for oversampling\n",
    "smote = SMOTE()\n",
    "X_train_resampled, y_train_resampled = smote.fit_resample(X_train, y_train)\n",
    "\n",
    "# Create a Decision Tree Classifier model\n",
    "model_dt = DecisionTreeClassifier(random_state=100)\n",
    "\n",
    "# Define hyperparameters to tune\n",
    "param_grid = {\n",
    "    'criterion': ['gini', 'entropy'],\n",
    "    'max_depth': [None, 5, 10, 15],\n",
    "    'min_samples_split': [2, 5, 10],\n",
    "    'min_samples_leaf': [1, 2, 4]\n",
    "}\n",
    "\n",
    "# Use StratifiedKFold cross-validation\n",
    "cv = StratifiedKFold(n_splits=5, shuffle=True, random_state=100)\n",
    "\n",
    "# Perform hyperparameter tuning using GridSearchCV\n",
    "grid_search = GridSearchCV(model_dt, param_grid, cv=cv, scoring='accuracy', n_jobs=-1)\n",
    "grid_search.fit(X_train_resampled, y_train_resampled)\n",
    "\n",
    "# Get the best model from the grid search\n",
    "best_model = grid_search.best_estimator_\n",
    "\n",
    "# Make predictions on the test data\n",
    "y_pred_dt_hp = best_model.predict(X_test)\n",
    "\n",
    "# Evaluate the model's performance\n",
    "print(\"Accuracy:\", accuracy_score(y_test, y_pred_dt_hp))\n",
    "print(\"\\nConfusion Matrix:\\n\", confusion_matrix(y_test, y_pred_dt_hp))\n",
    "print(\"\\nClassification Report:\\n\", classification_report(y_test, y_pred_dt_hp))\n"
   ]
  },
  {
   "cell_type": "markdown",
   "id": "3cd7ffe9-3a9d-4034-b75d-442c503117a3",
   "metadata": {},
   "source": [
    "**3. Random Forest Classifier**"
   ]
  },
  {
   "cell_type": "code",
   "execution_count": 28,
   "id": "f083a0e7-17c9-49b5-8ab0-03f6938707f4",
   "metadata": {},
   "outputs": [
    {
     "data": {
      "text/html": [
       "<style>#sk-container-id-3 {color: black;background-color: white;}#sk-container-id-3 pre{padding: 0;}#sk-container-id-3 div.sk-toggleable {background-color: white;}#sk-container-id-3 label.sk-toggleable__label {cursor: pointer;display: block;width: 100%;margin-bottom: 0;padding: 0.3em;box-sizing: border-box;text-align: center;}#sk-container-id-3 label.sk-toggleable__label-arrow:before {content: \"▸\";float: left;margin-right: 0.25em;color: #696969;}#sk-container-id-3 label.sk-toggleable__label-arrow:hover:before {color: black;}#sk-container-id-3 div.sk-estimator:hover label.sk-toggleable__label-arrow:before {color: black;}#sk-container-id-3 div.sk-toggleable__content {max-height: 0;max-width: 0;overflow: hidden;text-align: left;background-color: #f0f8ff;}#sk-container-id-3 div.sk-toggleable__content pre {margin: 0.2em;color: black;border-radius: 0.25em;background-color: #f0f8ff;}#sk-container-id-3 input.sk-toggleable__control:checked~div.sk-toggleable__content {max-height: 200px;max-width: 100%;overflow: auto;}#sk-container-id-3 input.sk-toggleable__control:checked~label.sk-toggleable__label-arrow:before {content: \"▾\";}#sk-container-id-3 div.sk-estimator input.sk-toggleable__control:checked~label.sk-toggleable__label {background-color: #d4ebff;}#sk-container-id-3 div.sk-label input.sk-toggleable__control:checked~label.sk-toggleable__label {background-color: #d4ebff;}#sk-container-id-3 input.sk-hidden--visually {border: 0;clip: rect(1px 1px 1px 1px);clip: rect(1px, 1px, 1px, 1px);height: 1px;margin: -1px;overflow: hidden;padding: 0;position: absolute;width: 1px;}#sk-container-id-3 div.sk-estimator {font-family: monospace;background-color: #f0f8ff;border: 1px dotted black;border-radius: 0.25em;box-sizing: border-box;margin-bottom: 0.5em;}#sk-container-id-3 div.sk-estimator:hover {background-color: #d4ebff;}#sk-container-id-3 div.sk-parallel-item::after {content: \"\";width: 100%;border-bottom: 1px solid gray;flex-grow: 1;}#sk-container-id-3 div.sk-label:hover label.sk-toggleable__label {background-color: #d4ebff;}#sk-container-id-3 div.sk-serial::before {content: \"\";position: absolute;border-left: 1px solid gray;box-sizing: border-box;top: 0;bottom: 0;left: 50%;z-index: 0;}#sk-container-id-3 div.sk-serial {display: flex;flex-direction: column;align-items: center;background-color: white;padding-right: 0.2em;padding-left: 0.2em;position: relative;}#sk-container-id-3 div.sk-item {position: relative;z-index: 1;}#sk-container-id-3 div.sk-parallel {display: flex;align-items: stretch;justify-content: center;background-color: white;position: relative;}#sk-container-id-3 div.sk-item::before, #sk-container-id-3 div.sk-parallel-item::before {content: \"\";position: absolute;border-left: 1px solid gray;box-sizing: border-box;top: 0;bottom: 0;left: 50%;z-index: -1;}#sk-container-id-3 div.sk-parallel-item {display: flex;flex-direction: column;z-index: 1;position: relative;background-color: white;}#sk-container-id-3 div.sk-parallel-item:first-child::after {align-self: flex-end;width: 50%;}#sk-container-id-3 div.sk-parallel-item:last-child::after {align-self: flex-start;width: 50%;}#sk-container-id-3 div.sk-parallel-item:only-child::after {width: 0;}#sk-container-id-3 div.sk-dashed-wrapped {border: 1px dashed gray;margin: 0 0.4em 0.5em 0.4em;box-sizing: border-box;padding-bottom: 0.4em;background-color: white;}#sk-container-id-3 div.sk-label label {font-family: monospace;font-weight: bold;display: inline-block;line-height: 1.2em;}#sk-container-id-3 div.sk-label-container {text-align: center;}#sk-container-id-3 div.sk-container {/* jupyter's `normalize.less` sets `[hidden] { display: none; }` but bootstrap.min.css set `[hidden] { display: none !important; }` so we also need the `!important` here to be able to override the default hidden behavior on the sphinx rendered scikit-learn.org. See: https://github.com/scikit-learn/scikit-learn/issues/21755 */display: inline-block !important;position: relative;}#sk-container-id-3 div.sk-text-repr-fallback {display: none;}</style><div id=\"sk-container-id-3\" class=\"sk-top-container\"><div class=\"sk-text-repr-fallback\"><pre>RandomForestClassifier(max_depth=6, min_samples_leaf=8, random_state=100)</pre><b>In a Jupyter environment, please rerun this cell to show the HTML representation or trust the notebook. <br />On GitHub, the HTML representation is unable to render, please try loading this page with nbviewer.org.</b></div><div class=\"sk-container\" hidden><div class=\"sk-item\"><div class=\"sk-estimator sk-toggleable\"><input class=\"sk-toggleable__control sk-hidden--visually\" id=\"sk-estimator-id-3\" type=\"checkbox\" checked><label for=\"sk-estimator-id-3\" class=\"sk-toggleable__label sk-toggleable__label-arrow\">RandomForestClassifier</label><div class=\"sk-toggleable__content\"><pre>RandomForestClassifier(max_depth=6, min_samples_leaf=8, random_state=100)</pre></div></div></div></div></div>"
      ],
      "text/plain": [
       "RandomForestClassifier(max_depth=6, min_samples_leaf=8, random_state=100)"
      ]
     },
     "execution_count": 28,
     "metadata": {},
     "output_type": "execute_result"
    }
   ],
   "source": [
    "from sklearn.ensemble import RandomForestClassifier\n",
    "\n",
    "# Create a Random Forest Classifier model\n",
    "model_rf=RandomForestClassifier(n_estimators=100, criterion='gini', random_state = 100,max_depth=6, \n",
    "                                                                        min_samples_leaf=8)\n",
    "\n",
    "# Train the model on the training data\n",
    "model_rf.fit(X_train,y_train)"
   ]
  },
  {
   "cell_type": "code",
   "execution_count": 29,
   "id": "431a4f4e-a1e8-497a-a1a9-7f3c7b6d5340",
   "metadata": {},
   "outputs": [
    {
     "name": "stdout",
     "output_type": "stream",
     "text": [
      "Accuracy: 0.8056872037914692\n",
      "\n",
      "Confusion Matrix:\n",
      " [[715  65]\n",
      " [140 135]]\n",
      "\n",
      "Classification Report:\n",
      "               precision    recall  f1-score   support\n",
      "\n",
      "           0       0.84      0.92      0.87       780\n",
      "           1       0.68      0.49      0.57       275\n",
      "\n",
      "    accuracy                           0.81      1055\n",
      "   macro avg       0.76      0.70      0.72      1055\n",
      "weighted avg       0.79      0.81      0.79      1055\n",
      "\n"
     ]
    }
   ],
   "source": [
    "# Make predictions on the test data\n",
    "y_predrf = model_rf.predict(X_test)\n",
    "\n",
    "# Evaluate the model's performance\n",
    "print(\"Accuracy:\", accuracy_score(y_test, y_predrf))\n",
    "print(\"\\nConfusion Matrix:\\n\", confusion_matrix(y_test, y_predrf))\n",
    "print(\"\\nClassification Report:\\n\", classification_report(y_test, y_predrf))"
   ]
  },
  {
   "cell_type": "markdown",
   "id": "dbc98538-72b0-4f1c-b058-d1bb082cd17a",
   "metadata": {},
   "source": [
    "### Let's see score after upsampling."
   ]
  },
  {
   "cell_type": "code",
   "execution_count": 30,
   "id": "0f54dd7c-bb6b-4c87-be5e-d233bfeca28c",
   "metadata": {},
   "outputs": [
    {
     "name": "stdout",
     "output_type": "stream",
     "text": [
      "Accuracy: 0.7440758293838863\n",
      "\n",
      "Confusion Matrix:\n",
      " [[567 213]\n",
      " [ 57 218]]\n",
      "Classification Report:\n",
      "               precision    recall  f1-score   support\n",
      "\n",
      "           0       0.91      0.73      0.81       780\n",
      "           1       0.51      0.79      0.62       275\n",
      "\n",
      "    accuracy                           0.74      1055\n",
      "   macro avg       0.71      0.76      0.71      1055\n",
      "weighted avg       0.80      0.74      0.76      1055\n",
      "\n"
     ]
    }
   ],
   "source": [
    "# Train the model on the upsampled training data\n",
    "model_rf.fit(X_train_resampled, y_train_resampled)\n",
    "\n",
    "# Make predictions on the test set\n",
    "y_pred_rf = model_rf.predict(X_test)\n",
    "\n",
    "# Evaluate the model's performance\n",
    "print(\"Accuracy:\", accuracy_score(y_test, y_pred_rf))\n",
    "print(\"\\nConfusion Matrix:\\n\", confusion_matrix(y_test, y_pred_rf))\n",
    "print(\"Classification Report:\\n\", classification_report(y_test, y_pred_rf))\n"
   ]
  },
  {
   "cell_type": "markdown",
   "id": "6371a4ea-5321-4779-8b6d-f6354add9775",
   "metadata": {},
   "source": [
    "### Let's experiment with different hyperparameters for our Random forest model."
   ]
  },
  {
   "cell_type": "code",
   "execution_count": 31,
   "id": "b361601e-d369-4175-ae8c-0100acf296ed",
   "metadata": {},
   "outputs": [
    {
     "name": "stdout",
     "output_type": "stream",
     "text": [
      "Best Hyperparameters: {'max_depth': 30, 'min_samples_leaf': 1, 'min_samples_split': 2, 'n_estimators': 200}\n",
      "Accuracy: 0.7725118483412322\n",
      "\n",
      "Confusion Matrix:\n",
      " [[629 151]\n",
      " [ 89 186]]\n",
      "Classification Report:\n",
      "               precision    recall  f1-score   support\n",
      "\n",
      "           0       0.88      0.81      0.84       780\n",
      "           1       0.55      0.68      0.61       275\n",
      "\n",
      "    accuracy                           0.77      1055\n",
      "   macro avg       0.71      0.74      0.72      1055\n",
      "weighted avg       0.79      0.77      0.78      1055\n",
      "\n"
     ]
    }
   ],
   "source": [
    "from sklearn.model_selection import GridSearchCV\n",
    "\n",
    "# Create a Random Forest Classifier\n",
    "model_rf = RandomForestClassifier(random_state=100)\n",
    "\n",
    "# Define the parameter grid to search\n",
    "param_grid = {\n",
    "    'n_estimators': [50, 100, 200],\n",
    "    'max_depth': [None, 10, 20, 30],\n",
    "    'min_samples_split': [2, 5, 10],\n",
    "    'min_samples_leaf': [1, 2, 4]\n",
    "}\n",
    "\n",
    "# Create GridSearchCV\n",
    "grid_search = GridSearchCV(model_rf, param_grid, cv=5, scoring='accuracy', n_jobs=-1)\n",
    "\n",
    "# Fit the grid search to the data\n",
    "grid_search.fit(X_train_resampled, y_train_resampled)\n",
    "\n",
    "# Get the best hyperparameters\n",
    "best_params = grid_search.best_params_\n",
    "print(\"Best Hyperparameters:\", best_params)\n",
    "\n",
    "# Train the model with the best hyperparameters\n",
    "best_model_rf = RandomForestClassifier(\n",
    "    random_state=100,\n",
    "    n_estimators=best_params['n_estimators'],\n",
    "    max_depth=best_params['max_depth'],\n",
    "    min_samples_split=best_params['min_samples_split'],\n",
    "    min_samples_leaf=best_params['min_samples_leaf']\n",
    ")\n",
    "\n",
    "best_model_rf.fit(X_train_resampled, y_train_resampled)\n",
    "\n",
    "# Make predictions on the test set\n",
    "y_pred_rf_hp = best_model_rf.predict(X_test)\n",
    "\n",
    "# Evaluate the model's performance\n",
    "print(\"Accuracy:\", accuracy_score(y_test, y_pred_rf_hp))\n",
    "print(\"\\nConfusion Matrix:\\n\", confusion_matrix(y_test, y_pred_rf_hp))\n",
    "print(\"Classification Report:\\n\", classification_report(y_test, y_pred_rf_hp))\n"
   ]
  },
  {
   "cell_type": "markdown",
   "id": "9bd8432d-4667-46e8-8a88-23dca092d05e",
   "metadata": {},
   "source": [
    "The resampled model appears to perform better for predicting churn compared to the original random forest model. It has a higher F1-Score for Churn = 1, indicating a better balance between precision and recall for customers who are likely to churn."
   ]
  },
  {
   "cell_type": "markdown",
   "id": "b50014c1-4e42-4593-85c8-e0eeb953cfb1",
   "metadata": {},
   "source": [
    "**4. Gradient Boosting**"
   ]
  },
  {
   "cell_type": "code",
   "execution_count": 32,
   "id": "b6836ae6-85bc-4e45-97c8-3ba7fc37a360",
   "metadata": {},
   "outputs": [
    {
     "name": "stdout",
     "output_type": "stream",
     "text": [
      "Accuracy: 0.8037914691943128\n",
      "\n",
      "Confusion Matrix:\n",
      " [[692  88]\n",
      " [119 156]]\n",
      "Classification Report:\n",
      "               precision    recall  f1-score   support\n",
      "\n",
      "           0       0.85      0.89      0.87       780\n",
      "           1       0.64      0.57      0.60       275\n",
      "\n",
      "    accuracy                           0.80      1055\n",
      "   macro avg       0.75      0.73      0.74      1055\n",
      "weighted avg       0.80      0.80      0.80      1055\n",
      "\n"
     ]
    }
   ],
   "source": [
    "from sklearn.ensemble import GradientBoostingClassifier\n",
    "\n",
    "# Create a Gradient Boosting Classifier model\n",
    "model_gb = GradientBoostingClassifier(n_estimators=100, learning_rate=0.1, max_depth=3, random_state=100)\n",
    "\n",
    "# Train the model on the training data\n",
    "model_gb.fit(X_train, y_train)\n",
    "\n",
    "# Make predictions on the test data\n",
    "y_predgb = model_gb.predict(X_test)\n",
    "\n",
    "# Evaluate the model's performance\n",
    "print(\"Accuracy:\", accuracy_score(y_test, y_predgb))\n",
    "print(\"\\nConfusion Matrix:\\n\", confusion_matrix(y_test, y_predgb))\n",
    "print(\"Classification Report:\\n\", classification_report(y_test, y_predgb))\n"
   ]
  },
  {
   "cell_type": "markdown",
   "id": "794043c7-13d8-4b57-af7b-45bbf8cb9013",
   "metadata": {},
   "source": [
    "### Let's see score after upsampling."
   ]
  },
  {
   "cell_type": "code",
   "execution_count": 33,
   "id": "d11cfccf-bca8-4086-8ba7-15ef34393921",
   "metadata": {},
   "outputs": [
    {
     "name": "stdout",
     "output_type": "stream",
     "text": [
      "Accuracy: 0.7535545023696683\n",
      "\n",
      "Confusion Matrix:\n",
      " [[580 200]\n",
      " [ 60 215]]\n",
      "Classification Report:\n",
      "               precision    recall  f1-score   support\n",
      "\n",
      "           0       0.91      0.74      0.82       780\n",
      "           1       0.52      0.78      0.62       275\n",
      "\n",
      "    accuracy                           0.75      1055\n",
      "   macro avg       0.71      0.76      0.72      1055\n",
      "weighted avg       0.81      0.75      0.77      1055\n",
      "\n"
     ]
    }
   ],
   "source": [
    "# Train the model on the upsampled training data\n",
    "model_gb.fit(X_train_resampled, y_train_resampled)\n",
    "\n",
    "# Make predictions on the test data\n",
    "y_pred_gb = model_gb.predict(X_test)\n",
    "\n",
    "# Evaluate the model's performance\n",
    "print(\"Accuracy:\", accuracy_score(y_test, y_pred_gb))\n",
    "print(\"\\nConfusion Matrix:\\n\", confusion_matrix(y_test, y_pred_gb))\n",
    "print(\"Classification Report:\\n\", classification_report(y_test, y_pred_gb))"
   ]
  },
  {
   "cell_type": "markdown",
   "id": "88eb6f32-c102-4ebe-887c-698bef35aa3e",
   "metadata": {},
   "source": [
    "The resampled model appears to perform better for predicting churn compared to the original random forest model. It has a higher F1-Score for Churn = 1, indicating a better balance between precision and recall for customers who are likely to churn."
   ]
  },
  {
   "cell_type": "markdown",
   "id": "afd97e4d-2241-45ae-abcf-76ec92f69fc4",
   "metadata": {},
   "source": [
    "### Model Evaluation"
   ]
  },
  {
   "cell_type": "markdown",
   "id": "88336b48-a1e6-48ab-a21c-ecdee5a114a1",
   "metadata": {},
   "source": [
    "**1. Logistic Regression:**\n",
    "\n",
    "- Original:\n",
    "- Accuracy: 0.8105\n",
    "- F1-score for churn (1): 0.61\n",
    "\n",
    "**After applying SMOTE (oversampling):**\n",
    "- Accuracy: 0.7555\n",
    "- F1-score for churn (1): 0.63"
   ]
  },
  {
   "cell_type": "markdown",
   "id": "7e8a2c92-8396-4935-99e2-cc146ec65aae",
   "metadata": {},
   "source": [
    "**2. Decision Tree Classifier:**\n",
    "\n",
    "- Original:\n",
    "- Accuracy: 0.7555\n",
    "- F1-score for churn (1): 0.63\n",
    "\n",
    "**After applying SMOTE (oversampling):**\n",
    "- Accuracy: 0.7195\n",
    "- F1-score for churn (1): 0.61\n",
    "\n",
    "**After hyperparameter tuning:**\n",
    "- Accuracy: 0.7431\n",
    "- F1-score for churn (1): 0.58"
   ]
  },
  {
   "cell_type": "markdown",
   "id": "879a4d5d-711c-45d0-9f4b-52d3ac40aa5f",
   "metadata": {},
   "source": [
    "**3. Random Forest Classifier:**\n",
    "\n",
    "- Original:\n",
    "- Accuracy: 0.8057\n",
    "- F1-score for churn (1): 0.57\n",
    "\n",
    "**After applying SMOTE (oversampling):**\n",
    "- Accuracy: 0.7441\n",
    "- F1-score for churn (1): 0.62\n",
    "\n",
    "**After hyperparameter tuning:**\n",
    "- Accuracy: 0.7725\n",
    "- F1-score for churn (1): 0.61"
   ]
  },
  {
   "cell_type": "markdown",
   "id": "65bd94c8-dd88-4b34-b8b2-0f91fbfbd626",
   "metadata": {},
   "source": [
    "**4. Gradient Boosting:**\n",
    "\n",
    "- Original:\n",
    "- Accuracy: 0.8038\n",
    "- F1-score for churn (1):  0.60\n",
    "\n",
    "**After applying SMOTE (oversampling):**\n",
    "- Accuracy: 0.7536\n",
    "- F1-score for churn (1): 0.62"
   ]
  },
  {
   "cell_type": "markdown",
   "id": "55d1bf66-c798-46f6-89e3-b6f32d7de1f5",
   "metadata": {},
   "source": [
    "### Conclusion"
   ]
  },
  {
   "cell_type": "markdown",
   "id": "8e662ed5-1a68-4f9e-afe9-d2ed960060d5",
   "metadata": {},
   "source": [
    "Based on these results, it appears that the original Logistic Regression model had the highest accuracy and reasonably good F1-scores for both classes. The Decision Tree Classifier performed well, especially after hyperparameter tuning. The Random Forest Classifier showed promise with a good F1-score after tuning, while Gradient Boosting had a lower overall accuracy."
   ]
  },
  {
   "cell_type": "code",
   "execution_count": null,
   "id": "7ce94636-f4db-485b-a0a4-b464516eef0a",
   "metadata": {},
   "outputs": [],
   "source": []
  }
 ],
 "metadata": {
  "kernelspec": {
   "display_name": "Python 3 (ipykernel)",
   "language": "python",
   "name": "python3"
  },
  "language_info": {
   "codemirror_mode": {
    "name": "ipython",
    "version": 3
   },
   "file_extension": ".py",
   "mimetype": "text/x-python",
   "name": "python",
   "nbconvert_exporter": "python",
   "pygments_lexer": "ipython3",
   "version": "3.10.9"
  }
 },
 "nbformat": 4,
 "nbformat_minor": 5
}
